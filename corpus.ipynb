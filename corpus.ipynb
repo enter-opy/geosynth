{
 "cells": [
  {
   "cell_type": "markdown",
   "metadata": {
    "id": "-zWTNCC2OGXv"
   },
   "source": [
    "\n",
    "\n",
    "---\n",
    "\n",
    "\n",
    "# Freesound audio corpus generation with geotags\n",
    "\n",
    "\n",
    "---\n",
    "\n",
    "\n"
   ]
  },
  {
   "cell_type": "markdown",
   "metadata": {
    "id": "GDoUhJEjOtdj"
   },
   "source": [
    "**Resources:**\n",
    "\n",
    "\n",
    "*   [Freesound API search parameters](https://freesound.org/docs/api/resources_apiv2.html#request-parameters-text-search-parameters) (information about tags, filters etc.)\n",
    "*   [Freesound API key generation](https://freesound.org/home/login/?next=/apiv2/apply/) (requires Freesound account)\n",
    "* [pycountry documentation](https://pypi.org/project/pycountry/)\n",
    "* [reverse geocoder documentation](https://github.com/thampiman/reverse-geocoder)\n",
    "\n",
    "\n",
    "\n",
    "---\n",
    "\n"
   ]
  },
  {
   "cell_type": "markdown",
   "metadata": {
    "id": "XEYRLOV7Puac"
   },
   "source": [
    "\n",
    "\n",
    "\n",
    "\n",
    "\n",
    "# Necessary pip installs\n",
    "\n",
    "\n",
    "---\n",
    "\n"
   ]
  },
  {
   "cell_type": "code",
   "execution_count": 1,
   "metadata": {
    "id": "FBp2_ZT0PzBc"
   },
   "outputs": [
    {
     "name": "stdout",
     "output_type": "stream",
     "text": [
      "Collecting reverse_geocoder\n",
      "  Using cached reverse_geocoder-1.5.1-py3-none-any.whl\n",
      "Requirement already satisfied: numpy>=1.11.0 in /home/vivek/anaconda3/envs/rave/lib/python3.10/site-packages (from reverse_geocoder) (1.26.4)\n",
      "Requirement already satisfied: scipy>=0.17.1 in /home/vivek/anaconda3/envs/rave/lib/python3.10/site-packages (from reverse_geocoder) (1.10.0)\n",
      "Installing collected packages: reverse_geocoder\n",
      "Successfully installed reverse_geocoder-1.5.1\n",
      "Collecting pycountry\n",
      "  Using cached pycountry-24.6.1-py3-none-any.whl.metadata (12 kB)\n",
      "Using cached pycountry-24.6.1-py3-none-any.whl (6.3 MB)\n",
      "Installing collected packages: pycountry\n",
      "Successfully installed pycountry-24.6.1\n"
     ]
    }
   ],
   "source": [
    "!pip install reverse_geocoder\n",
    "!pip install pycountry"
   ]
  },
  {
   "cell_type": "code",
   "execution_count": 2,
   "metadata": {},
   "outputs": [
    {
     "name": "stdout",
     "output_type": "stream",
     "text": [
      "Collecting git+https://github.com/MTG/freesound-python\n",
      "  Cloning https://github.com/MTG/freesound-python to /tmp/pip-req-build-k959qrja\n",
      "  Running command git clone --filter=blob:none --quiet https://github.com/MTG/freesound-python /tmp/pip-req-build-k959qrja\n",
      "  Resolved https://github.com/MTG/freesound-python to commit 5be99a3689d17303c01cb122bbb0d5a96eba04f6\n",
      "  Installing build dependencies ... \u001b[?25ldone\n",
      "\u001b[?25h  Getting requirements to build wheel ... \u001b[?25ldone\n",
      "\u001b[?25h  Preparing metadata (pyproject.toml) ... \u001b[?25ldone\n",
      "\u001b[?25hRequirement already satisfied: requests<3.0,>2.27 in /home/vivek/anaconda3/envs/rave/lib/python3.10/site-packages (from freesound-python==1.1) (2.32.3)\n",
      "Requirement already satisfied: charset-normalizer<4,>=2 in /home/vivek/anaconda3/envs/rave/lib/python3.10/site-packages (from requests<3.0,>2.27->freesound-python==1.1) (3.4.1)\n",
      "Requirement already satisfied: idna<4,>=2.5 in /home/vivek/anaconda3/envs/rave/lib/python3.10/site-packages (from requests<3.0,>2.27->freesound-python==1.1) (3.10)\n",
      "Requirement already satisfied: urllib3<3,>=1.21.1 in /home/vivek/anaconda3/envs/rave/lib/python3.10/site-packages (from requests<3.0,>2.27->freesound-python==1.1) (2.3.0)\n",
      "Requirement already satisfied: certifi>=2017.4.17 in /home/vivek/anaconda3/envs/rave/lib/python3.10/site-packages (from requests<3.0,>2.27->freesound-python==1.1) (2025.1.31)\n",
      "Building wheels for collected packages: freesound-python\n",
      "  Building wheel for freesound-python (pyproject.toml) ... \u001b[?25ldone\n",
      "\u001b[?25h  Created wheel for freesound-python: filename=freesound_python-1.1-py3-none-any.whl size=6729 sha256=e5941251893da3ee8be506eccbf854679e1201c549142c79f16e3ff0e6b99da3\n",
      "  Stored in directory: /tmp/pip-ephem-wheel-cache-k5g1foe3/wheels/dc/c8/27/88211ef4ed95f2a550e37a5391838b1351782509677b1545af\n",
      "Successfully built freesound-python\n",
      "Installing collected packages: freesound-python\n",
      "Successfully installed freesound-python-1.1\n"
     ]
    }
   ],
   "source": [
    "!pip install git+https://github.com/MTG/freesound-python"
   ]
  },
  {
   "cell_type": "code",
   "execution_count": 10,
   "metadata": {
    "id": "0DPPyhQuCKBx"
   },
   "outputs": [],
   "source": [
    "import os\n",
    "import pandas as pd\n",
    "import numpy as np\n",
    "import freesound\n",
    "import json\n",
    "from IPython.display import display\n",
    "\n",
    "\n",
    "FREESOUND_API_KEY = 'fvtN2EDKCruugeJttir9hVtuToQQFhK03cUO8cdy' #[YOUR API KEY]\n",
    "\n",
    "freesound_client = freesound.FreesoundClient()\n",
    "freesound_client.set_token(FREESOUND_API_KEY)"
   ]
  },
  {
   "cell_type": "code",
   "execution_count": 51,
   "metadata": {
    "id": "ifoZlh1IULt1"
   },
   "outputs": [],
   "source": [
    "%rm -rf /content/geotagged_sounds"
   ]
  },
  {
   "cell_type": "markdown",
   "metadata": {
    "id": "gdmNCm86Qv-q"
   },
   "source": [
    "\n",
    "\n",
    "---\n",
    "\n",
    "\n",
    "# Create geotagged_sounds audio file directory\n",
    "\n",
    "\n",
    "---\n",
    "\n",
    "\n",
    "Audio file directory contains subdirectories with country names. Every country subdirectory contains files with the naming convention *Country_ID.mp3*"
   ]
  },
  {
   "cell_type": "code",
   "execution_count": 11,
   "metadata": {
    "id": "eQFGdey2Pvy7"
   },
   "outputs": [],
   "source": [
    "import requests\n",
    "import os\n",
    "\n",
    "# Country imports\n",
    "import reverse_geocoder as rg\n",
    "import pycountry\n",
    "\n",
    "# NOTE: assumes that geotag is passed as string \"x y\" (Freesound API geotag format)\n",
    "def get_country_by_geotag(geotag):\n",
    "  # Format geotag to tuple\n",
    "  formatted_geotag = geotag.split()\n",
    "\n",
    "  # Retrieve country code for formatted geotag\n",
    "  location = rg.search(formatted_geotag)\n",
    "  cc = location[0].get('cc')\n",
    "\n",
    "  # Get country name for geotag\n",
    "  country_name = pycountry.countries.get(alpha_2=cc).name\n",
    "\n",
    "  return country_name\n",
    "\n",
    "# country should be string, id should be int\n",
    "def save_audio(audio_url, id, country):\n",
    "    base_directory = \"sounds\"  # Base directory to store audio files\n",
    "\n",
    "    os.makedirs(base_directory, exist_ok=True)\n",
    "    # Download sound from URL provided by Freesound\n",
    "    audio = requests.get(audio_url)\n",
    "\n",
    "    # Define file name for audio\n",
    "    file_path = os.path.join(base_directory, str(id)+\".mp3\")\n",
    "\n",
    "    # Write audio\n",
    "    with open(file_path, \"wb\") as file:\n",
    "      file.write(audio.content)\n",
    "\n",
    "\n",
    "\n",
    "def get_geotagged_sounds(num_samples=100):\n",
    "  # TO ADD: parameters to the function (e.g. url, number of sounds, fields etc.)\n",
    "  # NOTE: multiple filter criterion (in params): filter1:value%20filter2:value%20 etc...\n",
    "\n",
    "  url = \"https://freesound.org/apiv2/search/text/\"\n",
    "  params = {\n",
    "      \"filter\": \"is_geotagged:1%20duration: [1 TO 60]\",\n",
    "      \"fields\": \"geotag,tags,id,previews\",\n",
    "      \"token\": FREESOUND_API_KEY,\n",
    "      'query': 'instruments',\n",
    "  }\n",
    "\n",
    "  response = requests.get(url, params=params)\n",
    "  json_response = response.json()\n",
    "\n",
    "  geotag_sound_ids = []\n",
    "  count = 0\n",
    "\n",
    "  '''\n",
    "  NOTE: JSON response contains key 'next', which is a URL for the next page\n",
    "  which contains the queried sounds. There seem to be 150 sounds per page, so\n",
    "  every time there is more than 150 sounds to be retrieved, 'next' is not None\n",
    "  '''\n",
    "  data = dict()\n",
    "  while json_response.get('next') is not None and count <= num_samples:\n",
    "\n",
    "    # Iterate over all retrieved sounds (dictionary)\n",
    "    for i in range (len(json_response['results'])):\n",
    "\n",
    "      # Get sound preview URL\n",
    "      # NOTE: .mp3 is retrieved. For .ogg, pass preview-hq-ogg\n",
    "      audio_url = json_response['results'][i].get('previews')['preview-hq-mp3']\n",
    "\n",
    "      # Get sound ID\n",
    "      id = json_response['results'][i].get('id')\n",
    "      geotag_sound_ids.append(id)\n",
    "\n",
    "      # Get country of sound from Freesound geotag\n",
    "      geotag = json_response['results'][i].get('geotag')\n",
    "      file_path = str(id)+\".mp3\"\n",
    "\n",
    "        \n",
    "      #print(geotag)\n",
    "      country = get_country_by_geotag(geotag)\n",
    "\n",
    "      # Save audio file\n",
    "      save_audio(audio_url,id,country)\n",
    "\n",
    "      data[file_path] = geotag\n",
    "      #print(data)\n",
    "      count += 1\n",
    "      #if count%100 == 0:\n",
    "        #print(str(count)+\" sound IDs retrieved\")\n",
    "\n",
    "\n",
    "    #print(json_response['next']) #Prints URL containing next audio files\n",
    "    response = requests.get(url=json_response['next'],params=params)\n",
    "    json_response = response.json()\n",
    "\n",
    "  with open('data.json', 'w') as f:\n",
    "      json.dump(data, f, indent=4)\n",
    "  return geotag_sound_ids,count"
   ]
  },
  {
   "cell_type": "markdown",
   "metadata": {
    "id": "8df5_ytbW5ni"
   },
   "source": [
    "\n",
    "\n",
    "---\n",
    "\n",
    "\n",
    "# Run 'main'\n",
    "\n",
    "\n",
    "---\n",
    "\n"
   ]
  },
  {
   "cell_type": "code",
   "execution_count": null,
   "metadata": {
    "colab": {
     "base_uri": "https://localhost:8080/"
    },
    "id": "of91kf4p6jfw",
    "outputId": "9c7cc117-38ef-4c42-a5cc-5e35f1288e1e",
    "scrolled": true
   },
   "outputs": [],
   "source": [
    "geotag_sound_ids,count = get_geotagged_sounds(200)"
   ]
  },
  {
   "cell_type": "markdown",
   "metadata": {
    "id": "7Mte4rJ9RNlh"
   },
   "source": [
    "\n",
    "\n",
    "---\n",
    "\n",
    "\n",
    "# Code examples\n",
    "\n",
    "\n",
    "---\n",
    "\n"
   ]
  },
  {
   "cell_type": "markdown",
   "metadata": {
    "id": "PXwr4vPqRSnP"
   },
   "source": [
    "### Retrieving country name from coordinates for some Freesound sample"
   ]
  },
  {
   "cell_type": "code",
   "execution_count": 47,
   "metadata": {
    "colab": {
     "base_uri": "https://localhost:8080/"
    },
    "id": "qk4D-d_TRQad",
    "outputId": "9a2aa12e-5999-4be5-8533-5695047360a9"
   },
   "outputs": [
    {
     "name": "stdout",
     "output_type": "stream",
     "text": [
      "Country name: United States\n"
     ]
    }
   ],
   "source": [
    "import reverse_geocoder as rg\n",
    "import pycountry\n",
    "import requests\n",
    "\n",
    "\n",
    "url = \"https://freesound.org/apiv2/sounds/344165/\"\n",
    "params = {\n",
    "    \n",
    "    \"fields\": \"geotag,tags,id,previews\",\n",
    "    \"token\": FREESOUND_API_KEY\n",
    "}\n",
    "\n",
    "# Get JSON response from Freesound\n",
    "response = requests.get(url, params=params)\n",
    "json_response = response.json()\n",
    "# print(json_response)\n",
    "\n",
    "# Get audio URL from Freesound sample\n",
    "audio_url = json_response['previews']['preview-hq-mp3']\n",
    "audio = requests.get(audio_url) #audio.content contains the mp3 file\n",
    "\n",
    "# Get geotag coordinates from Freesound sample\n",
    "coord = json_response.get('geotag')\n",
    "coord_tuple = coord.split() #converts from 'x y' to (x,y)\n",
    "\n",
    "# reverse_geocoder\n",
    "location = rg.search(coord_tuple)\n",
    "cc = location[0].get('cc')\n",
    "\n",
    "# pycountry\n",
    "country_name = pycountry.countries.get(alpha_2=cc).name\n",
    "\n",
    "print('Country name: '+country_name)"
   ]
  }
 ],
 "metadata": {
  "colab": {
   "provenance": []
  },
  "kernelspec": {
   "display_name": "Python 3 (ipykernel)",
   "language": "python",
   "name": "python3"
  },
  "language_info": {
   "codemirror_mode": {
    "name": "ipython",
    "version": 3
   },
   "file_extension": ".py",
   "mimetype": "text/x-python",
   "name": "python",
   "nbconvert_exporter": "python",
   "pygments_lexer": "ipython3",
   "version": "3.10.16"
  }
 },
 "nbformat": 4,
 "nbformat_minor": 4
}
