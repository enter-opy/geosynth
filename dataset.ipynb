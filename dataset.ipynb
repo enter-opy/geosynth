{
 "cells": [
  {
   "cell_type": "code",
   "execution_count": 32,
   "id": "68e9585d-43d9-4132-a739-1848dc97f278",
   "metadata": {},
   "outputs": [],
   "source": [
    "import json\n",
    "import pandas as pd\n",
    "import os\n",
    "import librosa\n",
    "import numpy as np"
   ]
  },
  {
   "cell_type": "code",
   "execution_count": 6,
   "id": "ac2639c3-e283-41b4-900c-68dce0e2b7ea",
   "metadata": {},
   "outputs": [],
   "source": [
    "with open('data.json', 'r') as f:\n",
    "    data = json.load(f)"
   ]
  },
  {
   "cell_type": "code",
   "execution_count": 11,
   "id": "c63bbfb5-3e58-4b3c-a0ba-33ad893cdfb7",
   "metadata": {},
   "outputs": [],
   "source": [
    "paths = list(data.keys())"
   ]
  },
  {
   "cell_type": "code",
   "execution_count": 20,
   "id": "3edc821a-8e98-4f25-a7b5-b35721632f21",
   "metadata": {},
   "outputs": [],
   "source": [
    "fullpaths = list()\n",
    "\n",
    "for path in paths:\n",
    "    fullpath = os.path.join('sounds', path)\n",
    "\n",
    "    fullpaths.append(fullpath)"
   ]
  },
  {
   "cell_type": "code",
   "execution_count": 21,
   "id": "ae1711c3-e39c-4a25-993a-ad2f6aa2f57a",
   "metadata": {},
   "outputs": [],
   "source": [
    "geotags = list(data.values())"
   ]
  },
  {
   "cell_type": "code",
   "execution_count": 22,
   "id": "deba1a45-2f75-4ac7-aace-a89e5f8aa256",
   "metadata": {},
   "outputs": [],
   "source": [
    "lats = list()\n",
    "longs = list()\n",
    "\n",
    "for geotag in geotags:\n",
    "    lat, long = geotag.split()\n",
    "    lat = float(lat)\n",
    "    long = float(long)\n",
    "\n",
    "    lats.append(lat)\n",
    "    longs.append(long)"
   ]
  },
  {
   "cell_type": "code",
   "execution_count": 23,
   "id": "9f75509e-3c4d-458b-a213-42471c302c2c",
   "metadata": {},
   "outputs": [],
   "source": [
    "df = pd.DataFrame({\n",
    "    'path': fullpaths,\n",
    "    'lat': lats,\n",
    "    'long': longs\n",
    "})"
   ]
  },
  {
   "cell_type": "code",
   "execution_count": 24,
   "id": "7aabe873-5ef7-46e9-bdc3-de9fef6103ad",
   "metadata": {},
   "outputs": [
    {
     "data": {
      "text/html": [
       "<div>\n",
       "<style scoped>\n",
       "    .dataframe tbody tr th:only-of-type {\n",
       "        vertical-align: middle;\n",
       "    }\n",
       "\n",
       "    .dataframe tbody tr th {\n",
       "        vertical-align: top;\n",
       "    }\n",
       "\n",
       "    .dataframe thead th {\n",
       "        text-align: right;\n",
       "    }\n",
       "</style>\n",
       "<table border=\"1\" class=\"dataframe\">\n",
       "  <thead>\n",
       "    <tr style=\"text-align: right;\">\n",
       "      <th></th>\n",
       "      <th>path</th>\n",
       "      <th>lat</th>\n",
       "      <th>long</th>\n",
       "    </tr>\n",
       "  </thead>\n",
       "  <tbody>\n",
       "    <tr>\n",
       "      <th>0</th>\n",
       "      <td>sounds/169884.mp3</td>\n",
       "      <td>45.094262</td>\n",
       "      <td>7.524798</td>\n",
       "    </tr>\n",
       "    <tr>\n",
       "      <th>1</th>\n",
       "      <td>sounds/169885.mp3</td>\n",
       "      <td>45.094716</td>\n",
       "      <td>7.525034</td>\n",
       "    </tr>\n",
       "    <tr>\n",
       "      <th>2</th>\n",
       "      <td>sounds/697381.mp3</td>\n",
       "      <td>16.910815</td>\n",
       "      <td>96.148424</td>\n",
       "    </tr>\n",
       "    <tr>\n",
       "      <th>3</th>\n",
       "      <td>sounds/187893.mp3</td>\n",
       "      <td>41.386662</td>\n",
       "      <td>2.179660</td>\n",
       "    </tr>\n",
       "    <tr>\n",
       "      <th>4</th>\n",
       "      <td>sounds/788102.mp3</td>\n",
       "      <td>21.307358</td>\n",
       "      <td>-157.858465</td>\n",
       "    </tr>\n",
       "  </tbody>\n",
       "</table>\n",
       "</div>"
      ],
      "text/plain": [
       "                path        lat        long\n",
       "0  sounds/169884.mp3  45.094262    7.524798\n",
       "1  sounds/169885.mp3  45.094716    7.525034\n",
       "2  sounds/697381.mp3  16.910815   96.148424\n",
       "3  sounds/187893.mp3  41.386662    2.179660\n",
       "4  sounds/788102.mp3  21.307358 -157.858465"
      ]
     },
     "execution_count": 24,
     "metadata": {},
     "output_type": "execute_result"
    }
   ],
   "source": [
    "df.head()"
   ]
  },
  {
   "cell_type": "code",
   "execution_count": 25,
   "id": "e9766a00-8a51-446e-b986-2843b9fb0ad8",
   "metadata": {},
   "outputs": [],
   "source": [
    "df.to_csv('dataset.csv', index=False)"
   ]
  },
  {
   "cell_type": "code",
   "execution_count": 34,
   "id": "274a43de-c431-45f2-80c6-6928e9fdff20",
   "metadata": {},
   "outputs": [],
   "source": [
    "audio = list()\n",
    "for i, row in df.iterrows():\n",
    "    y, sr = librosa.load(row['path'])\n",
    "\n",
    "    y = np.pad(y, (0, max(0, 44100 - len(y))), mode=\"constant\")[:44100]\n",
    "\n",
    "    audio.append(y)"
   ]
  },
  {
   "cell_type": "code",
   "execution_count": 35,
   "id": "c53eab5b-fd00-49df-8618-5566952bf0a5",
   "metadata": {},
   "outputs": [
    {
     "name": "stdout",
     "output_type": "stream",
     "text": [
      "210\n"
     ]
    }
   ],
   "source": [
    "print(len(audio))"
   ]
  },
  {
   "cell_type": "code",
   "execution_count": null,
   "id": "dea6c87e-91b6-40a5-9bc9-fc41e834baa0",
   "metadata": {},
   "outputs": [],
   "source": [
    "la = 28\n",
    "lo"
   ]
  }
 ],
 "metadata": {
  "kernelspec": {
   "display_name": "Python 3 (ipykernel)",
   "language": "python",
   "name": "python3"
  },
  "language_info": {
   "codemirror_mode": {
    "name": "ipython",
    "version": 3
   },
   "file_extension": ".py",
   "mimetype": "text/x-python",
   "name": "python",
   "nbconvert_exporter": "python",
   "pygments_lexer": "ipython3",
   "version": "3.10.16"
  }
 },
 "nbformat": 4,
 "nbformat_minor": 5
}
